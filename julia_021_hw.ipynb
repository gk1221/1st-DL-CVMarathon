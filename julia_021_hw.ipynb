{
 "cells": [
  {
   "cell_type": "markdown",
   "metadata": {},
   "source": [
    "# Julia 基礎圖表繪製：Gadfly 一維資料圖表\n",
    "\n",
    "## 作業 021"
   ]
  },
  {
   "cell_type": "markdown",
   "metadata": {},
   "source": [
    "1. 比較看看盒狀圖與 violin plot 在同樣的資料上分別展現資料的什麼特性。"
   ]
  },
  {
   "cell_type": "markdown",
   "metadata": {},
   "source": [
    "2. 同樣的資料可以以條狀圖或是線圖繪製，思考兩者在表現資料上的特點。"
   ]
  },
  {
   "cell_type": "code",
   "execution_count": 1,
   "metadata": {},
   "outputs": [
    {
     "name": "stderr",
     "output_type": "stream",
     "text": [
      "┌ Info: Recompiling stale cache file C:\\Users\\Delta\\.julia\\compiled\\v1.2\\Gadfly\\DvECm.ji for Gadfly [c91e804a-d5a3-530f-b6f0-dfbca275c004]\n",
      "└ @ Base loading.jl:1240\n"
     ]
    }
   ],
   "source": [
    "using Gadfly\n"
   ]
  },
  {
   "cell_type": "code",
   "execution_count": 3,
   "metadata": {},
   "outputs": [
    {
     "data": {
      "text/plain": [
       "Dict{String,Union{Nothing, VersionNumber}} with 17 entries:\n",
       "  \"CSV\"               => v\"0.7.7\"\n",
       "  \"TimeZones\"         => v\"0.10.2\"\n",
       "  \"Fontconfig\"        => v\"0.3.0\"\n",
       "  \"SQLite\"            => v\"0.8.1\"\n",
       "  \"ZipFile\"           => v\"0.8.4\"\n",
       "  \"ColorSchemes\"      => v\"3.9.0\"\n",
       "  \"PyCall\"            => v\"1.91.0\"\n",
       "  \"JSON\"              => v\"0.21.0\"\n",
       "  \"IJulia\"            => v\"1.21.2\"\n",
       "  \"Plots\"             => v\"1.4.4\"\n",
       "  \"CategoricalArrays\" => v\"0.8.1\"\n",
       "  \"RDatasets\"         => v\"0.6.10\"\n",
       "  \"Gadfly\"            => v\"1.3.0\"\n",
       "  \"ODBC\"              => v\"1.0.3\"\n",
       "  \"PackageCompiler\"   => v\"1.2.1\"\n",
       "  \"Cairo\"             => v\"0.8.0\"\n",
       "  \"DataFrames\"        => v\"0.21.6\""
      ]
     },
     "execution_count": 3,
     "metadata": {},
     "output_type": "execute_result"
    }
   ],
   "source": [
    "using Pkg\n",
    "Pkg.installed()"
   ]
  },
  {
   "cell_type": "code",
   "execution_count": 5,
   "metadata": {},
   "outputs": [
    {
     "ename": "UndefVarError",
     "evalue": "UndefVarError: Artifacts not defined",
     "output_type": "error",
     "traceback": [
      "UndefVarError: Artifacts not defined",
      "",
      "Stacktrace:",
      " [1] top-level scope at In[5]:1"
     ]
    }
   ],
   "source": [
    "using Pkg.Artifacts"
   ]
  }
 ],
 "metadata": {
  "kernelspec": {
   "display_name": "Julia 1.2.0",
   "language": "julia",
   "name": "julia-1.2"
  },
  "language_info": {
   "file_extension": ".jl",
   "mimetype": "application/julia",
   "name": "julia",
   "version": "1.2.0"
  }
 },
 "nbformat": 4,
 "nbformat_minor": 4
}
