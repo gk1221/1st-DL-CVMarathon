{
 "cells": [
  {
   "cell_type": "markdown",
   "metadata": {},
   "source": [
    "# 陣列 (Array)\n",
    "\n",
    "## Day 009 作業：比較不同的內建排序演算法\n",
    "\n",
    "除了範例程式示範的 QuickSort 之外，Julia 也內建支援幾種不同的排序演算法：\n",
    "\n",
    "- InsertionSort\n",
    "- PartialQuickSort(k)\n",
    "- MergeSort\n",
    "\n",
    "1. 請閱讀官方文件及範例 [Sorting-Algorithms](https://docs.julialang.org/en/v1/base/sort/#Sorting-Algorithms-1)\n",
    "\n",
    "2. 撰寫程式隨機產生 100000 個 200 到 500 之間的數字來建立陣列，執行不同排序方法，來比較不同排序方法的速度。\n",
    "\n",
    "**[提示]** 排序執行所需時間可以用巨集 `@time` 或 `@elapsed` 來取得。"
   ]
  },
  {
   "cell_type": "code",
   "execution_count": 41,
   "metadata": {},
   "outputs": [
    {
     "data": {
      "text/plain": [
       "1000000-element Array{Int64,1}:\n",
       " 211\n",
       " 243\n",
       " 391\n",
       " 341\n",
       " 209\n",
       " 446\n",
       " 258\n",
       " 235\n",
       " 330\n",
       " 325\n",
       " 493\n",
       " 469\n",
       " 461\n",
       "   ⋮\n",
       " 279\n",
       " 314\n",
       " 417\n",
       " 417\n",
       " 267\n",
       " 218\n",
       " 249\n",
       " 418\n",
       " 353\n",
       " 343\n",
       " 357\n",
       " 320"
      ]
     },
     "execution_count": 41,
     "metadata": {},
     "output_type": "execute_result"
    }
   ],
   "source": [
    "# 產生 100000 個 200 到 500 之間的數字的陣列\n",
    "x = rand(200:500, 1000000)"
   ]
  },
  {
   "cell_type": "markdown",
   "metadata": {},
   "source": [
    "## Insertion Sort"
   ]
  },
  {
   "cell_type": "code",
   "execution_count": 42,
   "metadata": {},
   "outputs": [
    {
     "data": {
      "text/plain": [
       "0.007092899"
      ]
     },
     "execution_count": 42,
     "metadata": {},
     "output_type": "execute_result"
    }
   ],
   "source": [
    "@elapsed sort(x, alg=InsertionSort)"
   ]
  },
  {
   "cell_type": "markdown",
   "metadata": {},
   "source": [
    "## Merge Sort"
   ]
  },
  {
   "cell_type": "code",
   "execution_count": 43,
   "metadata": {},
   "outputs": [
    {
     "data": {
      "text/plain": [
       "0.0071656"
      ]
     },
     "execution_count": 43,
     "metadata": {},
     "output_type": "execute_result"
    }
   ],
   "source": [
    "@elapsed sort(x, alg=MergeSort)"
   ]
  },
  {
   "cell_type": "markdown",
   "metadata": {},
   "source": [
    "## Partial Quick Sort"
   ]
  },
  {
   "cell_type": "code",
   "execution_count": 46,
   "metadata": {},
   "outputs": [
    {
     "data": {
      "text/plain": [
       "0.0069052"
      ]
     },
     "execution_count": 46,
     "metadata": {},
     "output_type": "execute_result"
    }
   ],
   "source": [
    "@elapsed sort(x, alg=PartialQuickSort(5))"
   ]
  },
  {
   "cell_type": "markdown",
   "metadata": {},
   "source": [
    "## QuickSort"
   ]
  },
  {
   "cell_type": "code",
   "execution_count": 45,
   "metadata": {
    "scrolled": false
   },
   "outputs": [
    {
     "data": {
      "text/plain": [
       "0.0071822"
      ]
     },
     "execution_count": 45,
     "metadata": {},
     "output_type": "execute_result"
    }
   ],
   "source": [
    "@elapsed sort(x; alg=QuickSort)"
   ]
  },
  {
   "cell_type": "markdown",
   "metadata": {},
   "source": [
    "## 請問哪一種排序方法的效能最好？"
   ]
  },
  {
   "cell_type": "code",
   "execution_count": null,
   "metadata": {},
   "outputs": [],
   "source": []
  }
 ],
 "metadata": {
  "kernelspec": {
   "display_name": "Julia 1.2.0",
   "language": "julia",
   "name": "julia-1.2"
  },
  "language_info": {
   "file_extension": ".jl",
   "mimetype": "application/julia",
   "name": "julia",
   "version": "1.2.0"
  }
 },
 "nbformat": 4,
 "nbformat_minor": 4
}
