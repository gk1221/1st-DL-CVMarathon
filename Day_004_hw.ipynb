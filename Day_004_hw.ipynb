{
 "cells": [
  {
   "cell_type": "markdown",
   "metadata": {},
   "source": [
    "# Julia 數值系統介紹\n",
    "\n",
    "## Day 004 作業\n",
    "\n",
    "今天的內容提到整數及浮點數型別之最小值和最大值：\n",
    "\n",
    "|是否有正負號|型別|<div style=\"width:120px\">最大值</div>|<div style=\"width:120px\">最小值</div>|\n",
    "|---|---|---|---|\n",
    "|有|Int128, Int64, Int32, Int16, Int8|$2^{位元數-1}-1$|$-2^{位元數-1}$|\n",
    "|無|UInt128, UInt64, UInt32, UInt16, UInt8|$2^{位元數}-1$|$0$|\n",
    "\n",
    "|型別|最小值|最大值|\n",
    "|---|---|---|\n",
    "|`Float64`|-Inf|Inf|\n",
    "|`Float32`|-Inf 或 -Inf32|Inf 或 Inf32|\n",
    "|`Float16`|-Inf 或 -Inf16|Inf 或 Inf16|\n",
    "\n",
    "### 作業：範例程式示範了 Int64 及 Float64 的最小值和最大值，作業請列出並觀察其他整數及浮點數型別的最小值和最大值。"
   ]
  },
  {
   "cell_type": "markdown",
   "metadata": {},
   "source": [
    "呼叫 `typemin()` 及 `typemax()` 函式得到各型別的最小值和最大值。\n",
    "\n",
    "列出 Int128, Int32, Int16, Int8, UInt128, UInt64, UInt32, UInt16, UInt8 整數型別的最小值及最大值"
   ]
  },
  {
   "cell_type": "code",
   "execution_count": 9,
   "metadata": {},
   "outputs": [
    {
     "name": "stdout",
     "output_type": "stream",
     "text": [
      "-170141183460469231731687303715884105728\n",
      "170141183460469231731687303715884105727\n",
      "-2147483648\n",
      "2147483647\n",
      "-32768\n",
      "32767\n",
      "-128\n",
      "127\n",
      "0\n",
      "340282366920938463463374607431768211455\n",
      "0\n",
      "18446744073709551615\n",
      "0\n",
      "4294967295\n"
     ]
    }
   ],
   "source": [
    "println(typemin(Int128))\n",
    "println(typemax(Int128))\n",
    "\n",
    "println(typemin(Int32))\n",
    "println(typemax(Int32))\n",
    "\n",
    "println(typemin(Int16))\n",
    "println(typemax(Int16))\n",
    "\n",
    "println(typemin(Int8))\n",
    "println(typemax(Int8))\n",
    "\n",
    "println(typemin(UInt128))\n",
    "println(typemax(UInt128))\n",
    "\n",
    "println(typemin(UInt64))\n",
    "println(typemax(UInt64))\n",
    "\n",
    "println(typemin(UInt32))\n",
    "println(typemax(UInt32))"
   ]
  },
  {
   "cell_type": "markdown",
   "metadata": {},
   "source": [
    "列出 Float32, Float16 浮點數型別的最小和最大值"
   ]
  },
  {
   "cell_type": "code",
   "execution_count": 14,
   "metadata": {},
   "outputs": [
    {
     "name": "stdout",
     "output_type": "stream",
     "text": [
      "-Inf\n",
      "Inf"
     ]
    }
   ],
   "source": [
    "println(typemin(Float32))\n",
    "print(typemax(Float32))"
   ]
  },
  {
   "cell_type": "code",
   "execution_count": 15,
   "metadata": {},
   "outputs": [
    {
     "name": "stdout",
     "output_type": "stream",
     "text": [
      "-Inf\n",
      "Inf"
     ]
    }
   ],
   "source": [
    "println(typemin(Float16))\n",
    "print(typemax(Float16))"
   ]
  }
 ],
 "metadata": {
  "@webio": {
   "lastCommId": null,
   "lastKernelId": null
  },
  "kernelspec": {
   "display_name": "Julia 1.2.0",
   "language": "julia",
   "name": "julia-1.2"
  },
  "language_info": {
   "file_extension": ".jl",
   "mimetype": "application/julia",
   "name": "julia",
   "version": "1.2.0"
  }
 },
 "nbformat": 4,
 "nbformat_minor": 4
}
