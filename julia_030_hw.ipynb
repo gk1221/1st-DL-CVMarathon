{
 "cells": [
  {
   "cell_type": "markdown",
   "metadata": {},
   "source": [
    "# Julia 機器學習：DecisionTree 決策樹\n",
    "\n",
    "## 作業 030：乳癌預測資料集\n",
    "\n",
    "請使用隨機森林模型建立一個分類模型，來預測乳癌資料集中，為良性或是惡性的腫瘤。"
   ]
  },
  {
   "cell_type": "code",
   "execution_count": 2,
   "metadata": {},
   "outputs": [],
   "source": [
    "using DecisionTree, RDatasets, DataFrames, MLDataUtils, Statistics"
   ]
  },
  {
   "cell_type": "markdown",
   "metadata": {},
   "source": [
    "## 讀取資料"
   ]
  },
  {
   "cell_type": "code",
   "execution_count": 3,
   "metadata": {
    "scrolled": true
   },
   "outputs": [
    {
     "data": {
      "text/html": [
       "<table class=\"data-frame\"><thead><tr><th></th><th>ID</th><th>V1</th><th>V2</th><th>V3</th><th>V4</th><th>V5</th><th>V6</th><th>V7</th><th>V8</th><th>V9</th><th>Class</th></tr><tr><th></th><th>String</th><th>Int32</th><th>Int32</th><th>Int32</th><th>Int32</th><th>Int32</th><th>Int32?</th><th>Int32</th><th>Int32</th><th>Int32</th><th>Cat…</th></tr></thead><tbody><p>699 rows × 11 columns</p><tr><th>1</th><td>1000025</td><td>5</td><td>1</td><td>1</td><td>1</td><td>2</td><td>1</td><td>3</td><td>1</td><td>1</td><td>benign</td></tr><tr><th>2</th><td>1002945</td><td>5</td><td>4</td><td>4</td><td>5</td><td>7</td><td>10</td><td>3</td><td>2</td><td>1</td><td>benign</td></tr><tr><th>3</th><td>1015425</td><td>3</td><td>1</td><td>1</td><td>1</td><td>2</td><td>2</td><td>3</td><td>1</td><td>1</td><td>benign</td></tr><tr><th>4</th><td>1016277</td><td>6</td><td>8</td><td>8</td><td>1</td><td>3</td><td>4</td><td>3</td><td>7</td><td>1</td><td>benign</td></tr><tr><th>5</th><td>1017023</td><td>4</td><td>1</td><td>1</td><td>3</td><td>2</td><td>1</td><td>3</td><td>1</td><td>1</td><td>benign</td></tr><tr><th>6</th><td>1017122</td><td>8</td><td>10</td><td>10</td><td>8</td><td>7</td><td>10</td><td>9</td><td>7</td><td>1</td><td>malignant</td></tr><tr><th>7</th><td>1018099</td><td>1</td><td>1</td><td>1</td><td>1</td><td>2</td><td>10</td><td>3</td><td>1</td><td>1</td><td>benign</td></tr><tr><th>8</th><td>1018561</td><td>2</td><td>1</td><td>2</td><td>1</td><td>2</td><td>1</td><td>3</td><td>1</td><td>1</td><td>benign</td></tr><tr><th>9</th><td>1033078</td><td>2</td><td>1</td><td>1</td><td>1</td><td>2</td><td>1</td><td>1</td><td>1</td><td>5</td><td>benign</td></tr><tr><th>10</th><td>1033078</td><td>4</td><td>2</td><td>1</td><td>1</td><td>2</td><td>1</td><td>2</td><td>1</td><td>1</td><td>benign</td></tr><tr><th>11</th><td>1035283</td><td>1</td><td>1</td><td>1</td><td>1</td><td>1</td><td>1</td><td>3</td><td>1</td><td>1</td><td>benign</td></tr><tr><th>12</th><td>1036172</td><td>2</td><td>1</td><td>1</td><td>1</td><td>2</td><td>1</td><td>2</td><td>1</td><td>1</td><td>benign</td></tr><tr><th>13</th><td>1041801</td><td>5</td><td>3</td><td>3</td><td>3</td><td>2</td><td>3</td><td>4</td><td>4</td><td>1</td><td>malignant</td></tr><tr><th>14</th><td>1043999</td><td>1</td><td>1</td><td>1</td><td>1</td><td>2</td><td>3</td><td>3</td><td>1</td><td>1</td><td>benign</td></tr><tr><th>15</th><td>1044572</td><td>8</td><td>7</td><td>5</td><td>10</td><td>7</td><td>9</td><td>5</td><td>5</td><td>4</td><td>malignant</td></tr><tr><th>16</th><td>1047630</td><td>7</td><td>4</td><td>6</td><td>4</td><td>6</td><td>1</td><td>4</td><td>3</td><td>1</td><td>malignant</td></tr><tr><th>17</th><td>1048672</td><td>4</td><td>1</td><td>1</td><td>1</td><td>2</td><td>1</td><td>2</td><td>1</td><td>1</td><td>benign</td></tr><tr><th>18</th><td>1049815</td><td>4</td><td>1</td><td>1</td><td>1</td><td>2</td><td>1</td><td>3</td><td>1</td><td>1</td><td>benign</td></tr><tr><th>19</th><td>1050670</td><td>10</td><td>7</td><td>7</td><td>6</td><td>4</td><td>10</td><td>4</td><td>1</td><td>2</td><td>malignant</td></tr><tr><th>20</th><td>1050718</td><td>6</td><td>1</td><td>1</td><td>1</td><td>2</td><td>1</td><td>3</td><td>1</td><td>1</td><td>benign</td></tr><tr><th>21</th><td>1054590</td><td>7</td><td>3</td><td>2</td><td>10</td><td>5</td><td>10</td><td>5</td><td>4</td><td>4</td><td>malignant</td></tr><tr><th>22</th><td>1054593</td><td>10</td><td>5</td><td>5</td><td>3</td><td>6</td><td>7</td><td>7</td><td>10</td><td>1</td><td>malignant</td></tr><tr><th>23</th><td>1056784</td><td>3</td><td>1</td><td>1</td><td>1</td><td>2</td><td>1</td><td>2</td><td>1</td><td>1</td><td>benign</td></tr><tr><th>24</th><td>1057013</td><td>8</td><td>4</td><td>5</td><td>1</td><td>2</td><td><em>missing</em></td><td>7</td><td>3</td><td>1</td><td>malignant</td></tr><tr><th>25</th><td>1059552</td><td>1</td><td>1</td><td>1</td><td>1</td><td>2</td><td>1</td><td>3</td><td>1</td><td>1</td><td>benign</td></tr><tr><th>26</th><td>1065726</td><td>5</td><td>2</td><td>3</td><td>4</td><td>2</td><td>7</td><td>3</td><td>6</td><td>1</td><td>malignant</td></tr><tr><th>27</th><td>1066373</td><td>3</td><td>2</td><td>1</td><td>1</td><td>1</td><td>1</td><td>2</td><td>1</td><td>1</td><td>benign</td></tr><tr><th>28</th><td>1066979</td><td>5</td><td>1</td><td>1</td><td>1</td><td>2</td><td>1</td><td>2</td><td>1</td><td>1</td><td>benign</td></tr><tr><th>29</th><td>1067444</td><td>2</td><td>1</td><td>1</td><td>1</td><td>2</td><td>1</td><td>2</td><td>1</td><td>1</td><td>benign</td></tr><tr><th>30</th><td>1070935</td><td>1</td><td>1</td><td>3</td><td>1</td><td>2</td><td>1</td><td>1</td><td>1</td><td>1</td><td>benign</td></tr><tr><th>&vellip;</th><td>&vellip;</td><td>&vellip;</td><td>&vellip;</td><td>&vellip;</td><td>&vellip;</td><td>&vellip;</td><td>&vellip;</td><td>&vellip;</td><td>&vellip;</td><td>&vellip;</td><td>&vellip;</td></tr></tbody></table>"
      ],
      "text/latex": [
       "\\begin{tabular}{r|ccccccccccc}\n",
       "\t& ID & V1 & V2 & V3 & V4 & V5 & V6 & V7 & V8 & V9 & Class\\\\\n",
       "\t\\hline\n",
       "\t& String & Int32 & Int32 & Int32 & Int32 & Int32 & Int32? & Int32 & Int32 & Int32 & Cat…\\\\\n",
       "\t\\hline\n",
       "\t1 & 1000025 & 5 & 1 & 1 & 1 & 2 & 1 & 3 & 1 & 1 & benign \\\\\n",
       "\t2 & 1002945 & 5 & 4 & 4 & 5 & 7 & 10 & 3 & 2 & 1 & benign \\\\\n",
       "\t3 & 1015425 & 3 & 1 & 1 & 1 & 2 & 2 & 3 & 1 & 1 & benign \\\\\n",
       "\t4 & 1016277 & 6 & 8 & 8 & 1 & 3 & 4 & 3 & 7 & 1 & benign \\\\\n",
       "\t5 & 1017023 & 4 & 1 & 1 & 3 & 2 & 1 & 3 & 1 & 1 & benign \\\\\n",
       "\t6 & 1017122 & 8 & 10 & 10 & 8 & 7 & 10 & 9 & 7 & 1 & malignant \\\\\n",
       "\t7 & 1018099 & 1 & 1 & 1 & 1 & 2 & 10 & 3 & 1 & 1 & benign \\\\\n",
       "\t8 & 1018561 & 2 & 1 & 2 & 1 & 2 & 1 & 3 & 1 & 1 & benign \\\\\n",
       "\t9 & 1033078 & 2 & 1 & 1 & 1 & 2 & 1 & 1 & 1 & 5 & benign \\\\\n",
       "\t10 & 1033078 & 4 & 2 & 1 & 1 & 2 & 1 & 2 & 1 & 1 & benign \\\\\n",
       "\t11 & 1035283 & 1 & 1 & 1 & 1 & 1 & 1 & 3 & 1 & 1 & benign \\\\\n",
       "\t12 & 1036172 & 2 & 1 & 1 & 1 & 2 & 1 & 2 & 1 & 1 & benign \\\\\n",
       "\t13 & 1041801 & 5 & 3 & 3 & 3 & 2 & 3 & 4 & 4 & 1 & malignant \\\\\n",
       "\t14 & 1043999 & 1 & 1 & 1 & 1 & 2 & 3 & 3 & 1 & 1 & benign \\\\\n",
       "\t15 & 1044572 & 8 & 7 & 5 & 10 & 7 & 9 & 5 & 5 & 4 & malignant \\\\\n",
       "\t16 & 1047630 & 7 & 4 & 6 & 4 & 6 & 1 & 4 & 3 & 1 & malignant \\\\\n",
       "\t17 & 1048672 & 4 & 1 & 1 & 1 & 2 & 1 & 2 & 1 & 1 & benign \\\\\n",
       "\t18 & 1049815 & 4 & 1 & 1 & 1 & 2 & 1 & 3 & 1 & 1 & benign \\\\\n",
       "\t19 & 1050670 & 10 & 7 & 7 & 6 & 4 & 10 & 4 & 1 & 2 & malignant \\\\\n",
       "\t20 & 1050718 & 6 & 1 & 1 & 1 & 2 & 1 & 3 & 1 & 1 & benign \\\\\n",
       "\t21 & 1054590 & 7 & 3 & 2 & 10 & 5 & 10 & 5 & 4 & 4 & malignant \\\\\n",
       "\t22 & 1054593 & 10 & 5 & 5 & 3 & 6 & 7 & 7 & 10 & 1 & malignant \\\\\n",
       "\t23 & 1056784 & 3 & 1 & 1 & 1 & 2 & 1 & 2 & 1 & 1 & benign \\\\\n",
       "\t24 & 1057013 & 8 & 4 & 5 & 1 & 2 & \\emph{missing} & 7 & 3 & 1 & malignant \\\\\n",
       "\t25 & 1059552 & 1 & 1 & 1 & 1 & 2 & 1 & 3 & 1 & 1 & benign \\\\\n",
       "\t26 & 1065726 & 5 & 2 & 3 & 4 & 2 & 7 & 3 & 6 & 1 & malignant \\\\\n",
       "\t27 & 1066373 & 3 & 2 & 1 & 1 & 1 & 1 & 2 & 1 & 1 & benign \\\\\n",
       "\t28 & 1066979 & 5 & 1 & 1 & 1 & 2 & 1 & 2 & 1 & 1 & benign \\\\\n",
       "\t29 & 1067444 & 2 & 1 & 1 & 1 & 2 & 1 & 2 & 1 & 1 & benign \\\\\n",
       "\t30 & 1070935 & 1 & 1 & 3 & 1 & 2 & 1 & 1 & 1 & 1 & benign \\\\\n",
       "\t$\\dots$ & $\\dots$ & $\\dots$ & $\\dots$ & $\\dots$ & $\\dots$ & $\\dots$ & $\\dots$ & $\\dots$ & $\\dots$ & $\\dots$ & $\\dots$ \\\\\n",
       "\\end{tabular}\n"
      ],
      "text/plain": [
       "699×11 DataFrame. Omitted printing of 3 columns\n",
       "│ Row │ ID      │ V1    │ V2    │ V3    │ V4    │ V5    │ V6     │ V7    │\n",
       "│     │ \u001b[90mString\u001b[39m  │ \u001b[90mInt32\u001b[39m │ \u001b[90mInt32\u001b[39m │ \u001b[90mInt32\u001b[39m │ \u001b[90mInt32\u001b[39m │ \u001b[90mInt32\u001b[39m │ \u001b[90mInt32?\u001b[39m │ \u001b[90mInt32\u001b[39m │\n",
       "├─────┼─────────┼───────┼───────┼───────┼───────┼───────┼────────┼───────┤\n",
       "│ 1   │ 1000025 │ 5     │ 1     │ 1     │ 1     │ 2     │ 1      │ 3     │\n",
       "│ 2   │ 1002945 │ 5     │ 4     │ 4     │ 5     │ 7     │ 10     │ 3     │\n",
       "│ 3   │ 1015425 │ 3     │ 1     │ 1     │ 1     │ 2     │ 2      │ 3     │\n",
       "│ 4   │ 1016277 │ 6     │ 8     │ 8     │ 1     │ 3     │ 4      │ 3     │\n",
       "│ 5   │ 1017023 │ 4     │ 1     │ 1     │ 3     │ 2     │ 1      │ 3     │\n",
       "│ 6   │ 1017122 │ 8     │ 10    │ 10    │ 8     │ 7     │ 10     │ 9     │\n",
       "│ 7   │ 1018099 │ 1     │ 1     │ 1     │ 1     │ 2     │ 10     │ 3     │\n",
       "│ 8   │ 1018561 │ 2     │ 1     │ 2     │ 1     │ 2     │ 1      │ 3     │\n",
       "│ 9   │ 1033078 │ 2     │ 1     │ 1     │ 1     │ 2     │ 1      │ 1     │\n",
       "│ 10  │ 1033078 │ 4     │ 2     │ 1     │ 1     │ 2     │ 1      │ 2     │\n",
       "⋮\n",
       "│ 689 │ 603148  │ 4     │ 1     │ 1     │ 1     │ 2     │ 1      │ 1     │\n",
       "│ 690 │ 654546  │ 1     │ 1     │ 1     │ 1     │ 2     │ 1      │ 1     │\n",
       "│ 691 │ 654546  │ 1     │ 1     │ 1     │ 3     │ 2     │ 1      │ 1     │\n",
       "│ 692 │ 695091  │ 5     │ 10    │ 10    │ 5     │ 4     │ 5      │ 4     │\n",
       "│ 693 │ 714039  │ 3     │ 1     │ 1     │ 1     │ 2     │ 1      │ 1     │\n",
       "│ 694 │ 763235  │ 3     │ 1     │ 1     │ 1     │ 2     │ 1      │ 2     │\n",
       "│ 695 │ 776715  │ 3     │ 1     │ 1     │ 1     │ 3     │ 2      │ 1     │\n",
       "│ 696 │ 841769  │ 2     │ 1     │ 1     │ 1     │ 2     │ 1      │ 1     │\n",
       "│ 697 │ 888820  │ 5     │ 10    │ 10    │ 3     │ 7     │ 3      │ 8     │\n",
       "│ 698 │ 897471  │ 4     │ 8     │ 6     │ 4     │ 3     │ 4      │ 10    │\n",
       "│ 699 │ 897471  │ 4     │ 8     │ 8     │ 5     │ 4     │ 5      │ 10    │"
      ]
     },
     "execution_count": 3,
     "metadata": {},
     "output_type": "execute_result"
    }
   ],
   "source": [
    "biopsy = dataset(\"MASS\", \"biopsy\")"
   ]
  },
  {
   "cell_type": "code",
   "execution_count": 11,
   "metadata": {
    "scrolled": true
   },
   "outputs": [
    {
     "data": {
      "text/html": [
       "<table class=\"data-frame\"><thead><tr><th></th><th>ID</th><th>V1</th><th>V2</th><th>V3</th><th>V4</th><th>V5</th><th>V6</th><th>V7</th><th>V8</th><th>V9</th><th>Class</th></tr><tr><th></th><th>String</th><th>Int32</th><th>Int32</th><th>Int32</th><th>Int32</th><th>Int32</th><th>Int32</th><th>Int32</th><th>Int32</th><th>Int32</th><th>Cat…</th></tr></thead><tbody><p>683 rows × 11 columns</p><tr><th>1</th><td>1000025</td><td>5</td><td>1</td><td>1</td><td>1</td><td>2</td><td>1</td><td>3</td><td>1</td><td>1</td><td>benign</td></tr><tr><th>2</th><td>1002945</td><td>5</td><td>4</td><td>4</td><td>5</td><td>7</td><td>10</td><td>3</td><td>2</td><td>1</td><td>benign</td></tr><tr><th>3</th><td>1015425</td><td>3</td><td>1</td><td>1</td><td>1</td><td>2</td><td>2</td><td>3</td><td>1</td><td>1</td><td>benign</td></tr><tr><th>4</th><td>1016277</td><td>6</td><td>8</td><td>8</td><td>1</td><td>3</td><td>4</td><td>3</td><td>7</td><td>1</td><td>benign</td></tr><tr><th>5</th><td>1017023</td><td>4</td><td>1</td><td>1</td><td>3</td><td>2</td><td>1</td><td>3</td><td>1</td><td>1</td><td>benign</td></tr><tr><th>6</th><td>1017122</td><td>8</td><td>10</td><td>10</td><td>8</td><td>7</td><td>10</td><td>9</td><td>7</td><td>1</td><td>malignant</td></tr><tr><th>7</th><td>1018099</td><td>1</td><td>1</td><td>1</td><td>1</td><td>2</td><td>10</td><td>3</td><td>1</td><td>1</td><td>benign</td></tr><tr><th>8</th><td>1018561</td><td>2</td><td>1</td><td>2</td><td>1</td><td>2</td><td>1</td><td>3</td><td>1</td><td>1</td><td>benign</td></tr><tr><th>9</th><td>1033078</td><td>2</td><td>1</td><td>1</td><td>1</td><td>2</td><td>1</td><td>1</td><td>1</td><td>5</td><td>benign</td></tr><tr><th>10</th><td>1033078</td><td>4</td><td>2</td><td>1</td><td>1</td><td>2</td><td>1</td><td>2</td><td>1</td><td>1</td><td>benign</td></tr><tr><th>11</th><td>1035283</td><td>1</td><td>1</td><td>1</td><td>1</td><td>1</td><td>1</td><td>3</td><td>1</td><td>1</td><td>benign</td></tr><tr><th>12</th><td>1036172</td><td>2</td><td>1</td><td>1</td><td>1</td><td>2</td><td>1</td><td>2</td><td>1</td><td>1</td><td>benign</td></tr><tr><th>13</th><td>1041801</td><td>5</td><td>3</td><td>3</td><td>3</td><td>2</td><td>3</td><td>4</td><td>4</td><td>1</td><td>malignant</td></tr><tr><th>14</th><td>1043999</td><td>1</td><td>1</td><td>1</td><td>1</td><td>2</td><td>3</td><td>3</td><td>1</td><td>1</td><td>benign</td></tr><tr><th>15</th><td>1044572</td><td>8</td><td>7</td><td>5</td><td>10</td><td>7</td><td>9</td><td>5</td><td>5</td><td>4</td><td>malignant</td></tr><tr><th>16</th><td>1047630</td><td>7</td><td>4</td><td>6</td><td>4</td><td>6</td><td>1</td><td>4</td><td>3</td><td>1</td><td>malignant</td></tr><tr><th>17</th><td>1048672</td><td>4</td><td>1</td><td>1</td><td>1</td><td>2</td><td>1</td><td>2</td><td>1</td><td>1</td><td>benign</td></tr><tr><th>18</th><td>1049815</td><td>4</td><td>1</td><td>1</td><td>1</td><td>2</td><td>1</td><td>3</td><td>1</td><td>1</td><td>benign</td></tr><tr><th>19</th><td>1050670</td><td>10</td><td>7</td><td>7</td><td>6</td><td>4</td><td>10</td><td>4</td><td>1</td><td>2</td><td>malignant</td></tr><tr><th>20</th><td>1050718</td><td>6</td><td>1</td><td>1</td><td>1</td><td>2</td><td>1</td><td>3</td><td>1</td><td>1</td><td>benign</td></tr><tr><th>21</th><td>1054590</td><td>7</td><td>3</td><td>2</td><td>10</td><td>5</td><td>10</td><td>5</td><td>4</td><td>4</td><td>malignant</td></tr><tr><th>22</th><td>1054593</td><td>10</td><td>5</td><td>5</td><td>3</td><td>6</td><td>7</td><td>7</td><td>10</td><td>1</td><td>malignant</td></tr><tr><th>23</th><td>1056784</td><td>3</td><td>1</td><td>1</td><td>1</td><td>2</td><td>1</td><td>2</td><td>1</td><td>1</td><td>benign</td></tr><tr><th>24</th><td>1059552</td><td>1</td><td>1</td><td>1</td><td>1</td><td>2</td><td>1</td><td>3</td><td>1</td><td>1</td><td>benign</td></tr><tr><th>25</th><td>1065726</td><td>5</td><td>2</td><td>3</td><td>4</td><td>2</td><td>7</td><td>3</td><td>6</td><td>1</td><td>malignant</td></tr><tr><th>26</th><td>1066373</td><td>3</td><td>2</td><td>1</td><td>1</td><td>1</td><td>1</td><td>2</td><td>1</td><td>1</td><td>benign</td></tr><tr><th>27</th><td>1066979</td><td>5</td><td>1</td><td>1</td><td>1</td><td>2</td><td>1</td><td>2</td><td>1</td><td>1</td><td>benign</td></tr><tr><th>28</th><td>1067444</td><td>2</td><td>1</td><td>1</td><td>1</td><td>2</td><td>1</td><td>2</td><td>1</td><td>1</td><td>benign</td></tr><tr><th>29</th><td>1070935</td><td>1</td><td>1</td><td>3</td><td>1</td><td>2</td><td>1</td><td>1</td><td>1</td><td>1</td><td>benign</td></tr><tr><th>30</th><td>1070935</td><td>3</td><td>1</td><td>1</td><td>1</td><td>1</td><td>1</td><td>2</td><td>1</td><td>1</td><td>benign</td></tr><tr><th>&vellip;</th><td>&vellip;</td><td>&vellip;</td><td>&vellip;</td><td>&vellip;</td><td>&vellip;</td><td>&vellip;</td><td>&vellip;</td><td>&vellip;</td><td>&vellip;</td><td>&vellip;</td><td>&vellip;</td></tr></tbody></table>"
      ],
      "text/latex": [
       "\\begin{tabular}{r|ccccccccccc}\n",
       "\t& ID & V1 & V2 & V3 & V4 & V5 & V6 & V7 & V8 & V9 & Class\\\\\n",
       "\t\\hline\n",
       "\t& String & Int32 & Int32 & Int32 & Int32 & Int32 & Int32 & Int32 & Int32 & Int32 & Cat…\\\\\n",
       "\t\\hline\n",
       "\t1 & 1000025 & 5 & 1 & 1 & 1 & 2 & 1 & 3 & 1 & 1 & benign \\\\\n",
       "\t2 & 1002945 & 5 & 4 & 4 & 5 & 7 & 10 & 3 & 2 & 1 & benign \\\\\n",
       "\t3 & 1015425 & 3 & 1 & 1 & 1 & 2 & 2 & 3 & 1 & 1 & benign \\\\\n",
       "\t4 & 1016277 & 6 & 8 & 8 & 1 & 3 & 4 & 3 & 7 & 1 & benign \\\\\n",
       "\t5 & 1017023 & 4 & 1 & 1 & 3 & 2 & 1 & 3 & 1 & 1 & benign \\\\\n",
       "\t6 & 1017122 & 8 & 10 & 10 & 8 & 7 & 10 & 9 & 7 & 1 & malignant \\\\\n",
       "\t7 & 1018099 & 1 & 1 & 1 & 1 & 2 & 10 & 3 & 1 & 1 & benign \\\\\n",
       "\t8 & 1018561 & 2 & 1 & 2 & 1 & 2 & 1 & 3 & 1 & 1 & benign \\\\\n",
       "\t9 & 1033078 & 2 & 1 & 1 & 1 & 2 & 1 & 1 & 1 & 5 & benign \\\\\n",
       "\t10 & 1033078 & 4 & 2 & 1 & 1 & 2 & 1 & 2 & 1 & 1 & benign \\\\\n",
       "\t11 & 1035283 & 1 & 1 & 1 & 1 & 1 & 1 & 3 & 1 & 1 & benign \\\\\n",
       "\t12 & 1036172 & 2 & 1 & 1 & 1 & 2 & 1 & 2 & 1 & 1 & benign \\\\\n",
       "\t13 & 1041801 & 5 & 3 & 3 & 3 & 2 & 3 & 4 & 4 & 1 & malignant \\\\\n",
       "\t14 & 1043999 & 1 & 1 & 1 & 1 & 2 & 3 & 3 & 1 & 1 & benign \\\\\n",
       "\t15 & 1044572 & 8 & 7 & 5 & 10 & 7 & 9 & 5 & 5 & 4 & malignant \\\\\n",
       "\t16 & 1047630 & 7 & 4 & 6 & 4 & 6 & 1 & 4 & 3 & 1 & malignant \\\\\n",
       "\t17 & 1048672 & 4 & 1 & 1 & 1 & 2 & 1 & 2 & 1 & 1 & benign \\\\\n",
       "\t18 & 1049815 & 4 & 1 & 1 & 1 & 2 & 1 & 3 & 1 & 1 & benign \\\\\n",
       "\t19 & 1050670 & 10 & 7 & 7 & 6 & 4 & 10 & 4 & 1 & 2 & malignant \\\\\n",
       "\t20 & 1050718 & 6 & 1 & 1 & 1 & 2 & 1 & 3 & 1 & 1 & benign \\\\\n",
       "\t21 & 1054590 & 7 & 3 & 2 & 10 & 5 & 10 & 5 & 4 & 4 & malignant \\\\\n",
       "\t22 & 1054593 & 10 & 5 & 5 & 3 & 6 & 7 & 7 & 10 & 1 & malignant \\\\\n",
       "\t23 & 1056784 & 3 & 1 & 1 & 1 & 2 & 1 & 2 & 1 & 1 & benign \\\\\n",
       "\t24 & 1059552 & 1 & 1 & 1 & 1 & 2 & 1 & 3 & 1 & 1 & benign \\\\\n",
       "\t25 & 1065726 & 5 & 2 & 3 & 4 & 2 & 7 & 3 & 6 & 1 & malignant \\\\\n",
       "\t26 & 1066373 & 3 & 2 & 1 & 1 & 1 & 1 & 2 & 1 & 1 & benign \\\\\n",
       "\t27 & 1066979 & 5 & 1 & 1 & 1 & 2 & 1 & 2 & 1 & 1 & benign \\\\\n",
       "\t28 & 1067444 & 2 & 1 & 1 & 1 & 2 & 1 & 2 & 1 & 1 & benign \\\\\n",
       "\t29 & 1070935 & 1 & 1 & 3 & 1 & 2 & 1 & 1 & 1 & 1 & benign \\\\\n",
       "\t30 & 1070935 & 3 & 1 & 1 & 1 & 1 & 1 & 2 & 1 & 1 & benign \\\\\n",
       "\t$\\dots$ & $\\dots$ & $\\dots$ & $\\dots$ & $\\dots$ & $\\dots$ & $\\dots$ & $\\dots$ & $\\dots$ & $\\dots$ & $\\dots$ & $\\dots$ \\\\\n",
       "\\end{tabular}\n"
      ],
      "text/plain": [
       "683×11 DataFrame. Omitted printing of 3 columns\n",
       "│ Row │ ID      │ V1    │ V2    │ V3    │ V4    │ V5    │ V6    │ V7    │\n",
       "│     │ \u001b[90mString\u001b[39m  │ \u001b[90mInt32\u001b[39m │ \u001b[90mInt32\u001b[39m │ \u001b[90mInt32\u001b[39m │ \u001b[90mInt32\u001b[39m │ \u001b[90mInt32\u001b[39m │ \u001b[90mInt32\u001b[39m │ \u001b[90mInt32\u001b[39m │\n",
       "├─────┼─────────┼───────┼───────┼───────┼───────┼───────┼───────┼───────┤\n",
       "│ 1   │ 1000025 │ 5     │ 1     │ 1     │ 1     │ 2     │ 1     │ 3     │\n",
       "│ 2   │ 1002945 │ 5     │ 4     │ 4     │ 5     │ 7     │ 10    │ 3     │\n",
       "│ 3   │ 1015425 │ 3     │ 1     │ 1     │ 1     │ 2     │ 2     │ 3     │\n",
       "│ 4   │ 1016277 │ 6     │ 8     │ 8     │ 1     │ 3     │ 4     │ 3     │\n",
       "│ 5   │ 1017023 │ 4     │ 1     │ 1     │ 3     │ 2     │ 1     │ 3     │\n",
       "│ 6   │ 1017122 │ 8     │ 10    │ 10    │ 8     │ 7     │ 10    │ 9     │\n",
       "│ 7   │ 1018099 │ 1     │ 1     │ 1     │ 1     │ 2     │ 10    │ 3     │\n",
       "│ 8   │ 1018561 │ 2     │ 1     │ 2     │ 1     │ 2     │ 1     │ 3     │\n",
       "│ 9   │ 1033078 │ 2     │ 1     │ 1     │ 1     │ 2     │ 1     │ 1     │\n",
       "│ 10  │ 1033078 │ 4     │ 2     │ 1     │ 1     │ 2     │ 1     │ 2     │\n",
       "⋮\n",
       "│ 673 │ 603148  │ 4     │ 1     │ 1     │ 1     │ 2     │ 1     │ 1     │\n",
       "│ 674 │ 654546  │ 1     │ 1     │ 1     │ 1     │ 2     │ 1     │ 1     │\n",
       "│ 675 │ 654546  │ 1     │ 1     │ 1     │ 3     │ 2     │ 1     │ 1     │\n",
       "│ 676 │ 695091  │ 5     │ 10    │ 10    │ 5     │ 4     │ 5     │ 4     │\n",
       "│ 677 │ 714039  │ 3     │ 1     │ 1     │ 1     │ 2     │ 1     │ 1     │\n",
       "│ 678 │ 763235  │ 3     │ 1     │ 1     │ 1     │ 2     │ 1     │ 2     │\n",
       "│ 679 │ 776715  │ 3     │ 1     │ 1     │ 1     │ 3     │ 2     │ 1     │\n",
       "│ 680 │ 841769  │ 2     │ 1     │ 1     │ 1     │ 2     │ 1     │ 1     │\n",
       "│ 681 │ 888820  │ 5     │ 10    │ 10    │ 3     │ 7     │ 3     │ 8     │\n",
       "│ 682 │ 897471  │ 4     │ 8     │ 6     │ 4     │ 3     │ 4     │ 10    │\n",
       "│ 683 │ 897471  │ 4     │ 8     │ 8     │ 5     │ 4     │ 5     │ 10    │"
      ]
     },
     "execution_count": 11,
     "metadata": {},
     "output_type": "execute_result"
    }
   ],
   "source": [
    "dm_biopsy = dropmissing(biopsy)"
   ]
  },
  {
   "cell_type": "code",
   "execution_count": 50,
   "metadata": {
    "scrolled": true
   },
   "outputs": [
    {
     "data": {
      "text/plain": [
       "683-element view(::Array{Int64,1}, [454, 482, 178, 417, 197, 167, 10, 625, 661, 470  …  11, 670, 673, 675, 666, 128, 220, 363, 372, 531]) with eltype Int64:\n",
       " 454\n",
       " 482\n",
       " 178\n",
       " 417\n",
       " 197\n",
       " 167\n",
       "  10\n",
       " 625\n",
       " 661\n",
       " 470\n",
       " 144\n",
       " 441\n",
       " 260\n",
       "   ⋮\n",
       " 452\n",
       " 273\n",
       "  11\n",
       " 670\n",
       " 673\n",
       " 675\n",
       " 666\n",
       " 128\n",
       " 220\n",
       " 363\n",
       " 372\n",
       " 531"
      ]
     },
     "execution_count": 50,
     "metadata": {},
     "output_type": "execute_result"
    }
   ],
   "source": [
    "indecies = MLDataUtils.shuffleobs(collect(1:nrow(dm_biopsy)))"
   ]
  },
  {
   "cell_type": "code",
   "execution_count": 53,
   "metadata": {},
   "outputs": [
    {
     "data": {
      "text/plain": [
       "([454, 482, 178, 417, 197, 167, 10, 625, 661, 470  …  580, 489, 67, 109, 131, 107, 386, 569, 278, 246], [243, 111, 176, 149, 355, 337, 160, 425, 602, 584  …  11, 670, 673, 675, 666, 128, 220, 363, 372, 531])"
      ]
     },
     "execution_count": 53,
     "metadata": {},
     "output_type": "execute_result"
    }
   ],
   "source": [
    "train_ind, test_ind = MLDataUtils.splitobs(indecies, at = 0.8)"
   ]
  },
  {
   "cell_type": "code",
   "execution_count": 54,
   "metadata": {
    "scrolled": true
   },
   "outputs": [
    {
     "data": {
      "text/plain": [
       "683×9 Array{Float64,2}:\n",
       " 5.0   1.0   1.0  1.0  2.0   1.0   3.0   1.0  1.0\n",
       " 5.0   4.0   4.0  5.0  7.0  10.0   3.0   2.0  1.0\n",
       " 3.0   1.0   1.0  1.0  2.0   2.0   3.0   1.0  1.0\n",
       " 6.0   8.0   8.0  1.0  3.0   4.0   3.0   7.0  1.0\n",
       " 4.0   1.0   1.0  3.0  2.0   1.0   3.0   1.0  1.0\n",
       " 8.0  10.0  10.0  8.0  7.0  10.0   9.0   7.0  1.0\n",
       " 1.0   1.0   1.0  1.0  2.0  10.0   3.0   1.0  1.0\n",
       " 2.0   1.0   2.0  1.0  2.0   1.0   3.0   1.0  1.0\n",
       " 2.0   1.0   1.0  1.0  2.0   1.0   1.0   1.0  5.0\n",
       " 4.0   2.0   1.0  1.0  2.0   1.0   2.0   1.0  1.0\n",
       " 1.0   1.0   1.0  1.0  1.0   1.0   3.0   1.0  1.0\n",
       " 2.0   1.0   1.0  1.0  2.0   1.0   2.0   1.0  1.0\n",
       " 5.0   3.0   3.0  3.0  2.0   3.0   4.0   4.0  1.0\n",
       " ⋮                           ⋮                \n",
       " 3.0   1.0   1.0  1.0  2.0   1.0   2.0   3.0  1.0\n",
       " 4.0   1.0   1.0  1.0  2.0   1.0   1.0   1.0  1.0\n",
       " 1.0   1.0   1.0  1.0  2.0   1.0   1.0   1.0  8.0\n",
       " 1.0   1.0   1.0  3.0  2.0   1.0   1.0   1.0  1.0\n",
       " 5.0  10.0  10.0  5.0  4.0   5.0   4.0   4.0  1.0\n",
       " 3.0   1.0   1.0  1.0  2.0   1.0   1.0   1.0  1.0\n",
       " 3.0   1.0   1.0  1.0  2.0   1.0   2.0   1.0  2.0\n",
       " 3.0   1.0   1.0  1.0  3.0   2.0   1.0   1.0  1.0\n",
       " 2.0   1.0   1.0  1.0  2.0   1.0   1.0   1.0  1.0\n",
       " 5.0  10.0  10.0  3.0  7.0   3.0   8.0  10.0  2.0\n",
       " 4.0   8.0   6.0  4.0  3.0   4.0  10.0   6.0  1.0\n",
       " 4.0   8.0   8.0  5.0  4.0   5.0  10.0   4.0  1.0"
      ]
     },
     "execution_count": 54,
     "metadata": {},
     "output_type": "execute_result"
    }
   ],
   "source": [
    "features=Matrix{Float64}(dm_biopsy[:,2:10])"
   ]
  },
  {
   "cell_type": "code",
   "execution_count": 55,
   "metadata": {
    "scrolled": true
   },
   "outputs": [
    {
     "data": {
      "text/plain": [
       "683-element Array{String,1}:\n",
       " \"benign\"\n",
       " \"benign\"\n",
       " \"benign\"\n",
       " \"benign\"\n",
       " \"benign\"\n",
       " \"malignant\"\n",
       " \"benign\"\n",
       " \"benign\"\n",
       " \"benign\"\n",
       " \"benign\"\n",
       " \"benign\"\n",
       " \"benign\"\n",
       " \"malignant\"\n",
       " ⋮\n",
       " \"benign\"\n",
       " \"benign\"\n",
       " \"benign\"\n",
       " \"benign\"\n",
       " \"malignant\"\n",
       " \"benign\"\n",
       " \"benign\"\n",
       " \"benign\"\n",
       " \"benign\"\n",
       " \"malignant\"\n",
       " \"malignant\"\n",
       " \"malignant\""
      ]
     },
     "execution_count": 55,
     "metadata": {},
     "output_type": "execute_result"
    }
   ],
   "source": [
    "labels = Vector(string.(dm_biopsy[:,11]))"
   ]
  },
  {
   "cell_type": "markdown",
   "metadata": {},
   "source": [
    "# DecisionTree"
   ]
  },
  {
   "cell_type": "code",
   "execution_count": 56,
   "metadata": {
    "scrolled": true
   },
   "outputs": [
    {
     "data": {
      "text/plain": [
       "DecisionTreeClassifier\n",
       "max_depth:                2\n",
       "min_samples_leaf:         1\n",
       "min_samples_split:        2\n",
       "min_purity_increase:      0.0\n",
       "pruning_purity_threshold: 1.0\n",
       "n_subfeatures:            0\n",
       "classes:                  nothing\n",
       "root:                     nothing"
      ]
     },
     "execution_count": 56,
     "metadata": {},
     "output_type": "execute_result"
    }
   ],
   "source": [
    "model = DecisionTree.DecisionTreeClassifier(max_depth=2)"
   ]
  },
  {
   "cell_type": "code",
   "execution_count": 57,
   "metadata": {},
   "outputs": [
    {
     "data": {
      "text/plain": [
       "DecisionTreeClassifier\n",
       "max_depth:                2\n",
       "min_samples_leaf:         1\n",
       "min_samples_split:        2\n",
       "min_purity_increase:      0.0\n",
       "pruning_purity_threshold: 1.0\n",
       "n_subfeatures:            0\n",
       "classes:                  [\"benign\", \"malignant\"]\n",
       "root:                     Decision Tree\n",
       "Leaves: 4\n",
       "Depth:  2"
      ]
     },
     "execution_count": 57,
     "metadata": {},
     "output_type": "execute_result"
    }
   ],
   "source": [
    "DecisionTree.fit!(model, features, labels)"
   ]
  },
  {
   "cell_type": "code",
   "execution_count": 58,
   "metadata": {},
   "outputs": [
    {
     "name": "stdout",
     "output_type": "stream",
     "text": [
      "Feature 2, Threshold 2.5\n",
      "L-> Feature 6, Threshold 3.5\n",
      "    L-> benign : 393/395\n",
      "    R-> benign : 13/23\n",
      "R-> Feature 2, Threshold 4.5\n",
      "    L-> malignant : 55/90\n",
      "    R-> malignant : 172/175\n"
     ]
    }
   ],
   "source": [
    "DecisionTree.print_tree(model, 5)"
   ]
  },
  {
   "cell_type": "code",
   "execution_count": 68,
   "metadata": {
    "scrolled": true
   },
   "outputs": [
    {
     "data": {
      "text/plain": [
       "137-element Array{String,1}:\n",
       " \"benign\"\n",
       " \"malignant\"\n",
       " \"benign\"\n",
       " \"malignant\"\n",
       " \"benign\"\n",
       " \"benign\"\n",
       " \"benign\"\n",
       " \"benign\"\n",
       " \"benign\"\n",
       " \"benign\"\n",
       " \"benign\"\n",
       " \"benign\"\n",
       " \"benign\"\n",
       " ⋮\n",
       " \"malignant\"\n",
       " \"benign\"\n",
       " \"benign\"\n",
       " \"benign\"\n",
       " \"benign\"\n",
       " \"benign\"\n",
       " \"malignant\"\n",
       " \"benign\"\n",
       " \"benign\"\n",
       " \"benign\"\n",
       " \"benign\"\n",
       " \"benign\""
      ]
     },
     "execution_count": 68,
     "metadata": {},
     "output_type": "execute_result"
    }
   ],
   "source": [
    "new_b = [4.0,1.0,2.0,1.0,3.0,1.0,1.0,2.0,1.0]\n",
    "ya = DecisionTree.predict(model, features[test_ind, :])"
   ]
  },
  {
   "cell_type": "code",
   "execution_count": 69,
   "metadata": {},
   "outputs": [
    {
     "data": {
      "text/plain": [
       "0.9927007299270073"
      ]
     },
     "execution_count": 69,
     "metadata": {},
     "output_type": "execute_result"
    }
   ],
   "source": [
    "accuracy(ya, labels[test_ind])"
   ]
  },
  {
   "cell_type": "code",
   "execution_count": 66,
   "metadata": {},
   "outputs": [
    {
     "data": {
      "text/plain": [
       "2-element Array{Float64,1}:\n",
       " 0.992\n",
       " 0.008"
      ]
     },
     "execution_count": 66,
     "metadata": {},
     "output_type": "execute_result"
    }
   ],
   "source": [
    "DecisionTree.predict_proba(model, new_b)"
   ]
  },
  {
   "cell_type": "markdown",
   "metadata": {},
   "source": [
    "# RandomForest"
   ]
  },
  {
   "cell_type": "code",
   "execution_count": 60,
   "metadata": {
    "scrolled": true
   },
   "outputs": [
    {
     "data": {
      "text/plain": [
       "RandomForestClassifier\n",
       "n_trees:             500\n",
       "n_subfeatures:       -1\n",
       "partial_sampling:    0.7\n",
       "max_depth:           9\n",
       "min_samples_leaf:    1\n",
       "min_samples_split:   2\n",
       "min_purity_increase: 0.0\n",
       "classes:             nothing\n",
       "ensemble:            nothing"
      ]
     },
     "execution_count": 60,
     "metadata": {},
     "output_type": "execute_result"
    }
   ],
   "source": [
    "model_2 = DecisionTree.RandomForestClassifier(n_trees=500, max_depth=9)"
   ]
  },
  {
   "cell_type": "code",
   "execution_count": 61,
   "metadata": {},
   "outputs": [
    {
     "data": {
      "text/plain": [
       "RandomForestClassifier\n",
       "n_trees:             500\n",
       "n_subfeatures:       -1\n",
       "partial_sampling:    0.7\n",
       "max_depth:           9\n",
       "min_samples_leaf:    1\n",
       "min_samples_split:   2\n",
       "min_purity_increase: 0.0\n",
       "classes:             [\"benign\", \"malignant\"]\n",
       "ensemble:            Ensemble of Decision Trees\n",
       "Trees:      500\n",
       "Avg Leaves: 19.588\n",
       "Avg Depth:  8.076"
      ]
     },
     "execution_count": 61,
     "metadata": {},
     "output_type": "execute_result"
    }
   ],
   "source": [
    "DecisionTree.fit!(model_2, features[train_ind, :], labels[train_ind])"
   ]
  },
  {
   "cell_type": "code",
   "execution_count": 62,
   "metadata": {},
   "outputs": [
    {
     "data": {
      "text/plain": [
       "137-element Array{String,1}:\n",
       " \"benign\"\n",
       " \"malignant\"\n",
       " \"benign\"\n",
       " \"malignant\"\n",
       " \"benign\"\n",
       " \"benign\"\n",
       " \"benign\"\n",
       " \"benign\"\n",
       " \"benign\"\n",
       " \"benign\"\n",
       " \"benign\"\n",
       " \"benign\"\n",
       " \"benign\"\n",
       " ⋮\n",
       " \"malignant\"\n",
       " \"benign\"\n",
       " \"benign\"\n",
       " \"benign\"\n",
       " \"benign\"\n",
       " \"benign\"\n",
       " \"malignant\"\n",
       " \"benign\"\n",
       " \"benign\"\n",
       " \"benign\"\n",
       " \"benign\"\n",
       " \"benign\""
      ]
     },
     "execution_count": 62,
     "metadata": {},
     "output_type": "execute_result"
    }
   ],
   "source": [
    "ŷ = DecisionTree.predict(model_2, features[test_ind, :])"
   ]
  },
  {
   "cell_type": "code",
   "execution_count": 63,
   "metadata": {},
   "outputs": [
    {
     "data": {
      "text/plain": [
       "accuracy (generic function with 1 method)"
      ]
     },
     "execution_count": 63,
     "metadata": {},
     "output_type": "execute_result"
    }
   ],
   "source": [
    "accuracy(xs, ys) = mean(xs .== ys)"
   ]
  },
  {
   "cell_type": "code",
   "execution_count": 64,
   "metadata": {},
   "outputs": [
    {
     "data": {
      "text/plain": [
       "0.9927007299270073"
      ]
     },
     "execution_count": 64,
     "metadata": {},
     "output_type": "execute_result"
    }
   ],
   "source": [
    "accuracy(ŷ, labels[test_ind])"
   ]
  }
 ],
 "metadata": {
  "kernelspec": {
   "display_name": "Julia 1.4.2",
   "language": "julia",
   "name": "julia-1.4"
  },
  "language_info": {
   "file_extension": ".jl",
   "mimetype": "application/julia",
   "name": "julia",
   "version": "1.4.2"
  }
 },
 "nbformat": 4,
 "nbformat_minor": 4
}
