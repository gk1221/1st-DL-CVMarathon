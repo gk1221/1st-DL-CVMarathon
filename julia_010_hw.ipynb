{
 "cells": [
  {
   "cell_type": "markdown",
   "metadata": {},
   "source": [
    "# 集合 (Collection) 型別：元組 (Tuple) 、Pair、字典 (Dict)、與 Set\n",
    "\n",
    "## Day 010 作業：計算字串中各宇元出現的次數\n",
    "\n",
    "今天的作業請大家計算字串中，各字元 (包含標點符號與換行符號) 出現的次數。範例解答將以字典 (Dict) 示範，將出現在字串中的字元作為 key，字元每出現一次就將對應的 value 次數加 1。最後，印出各字元及出現的次數。\n",
    "\n",
    "【提示】要判斷字典中某個 key 是否存在，可以呼叫 `haskey(字典, key)`，若 key 存在的話就會回傳 `true`。使用範例請參閱官方文件 [https://docs.julialang.org/en/v1/base/collections/#Base.haskey](https://docs.julialang.org/en/v1/base/collections/#Base.haskey)"
   ]
  },
  {
   "cell_type": "code",
   "execution_count": 2,
   "metadata": {},
   "outputs": [
    {
     "data": {
      "text/plain": [
       "\"永和有永和路，中和也有永和路，\\n中和有中和路，永和也有中和路；\\n中和的中和路有接永和的中和路，\\n永和的永和路沒接中和的永和路；\\n永和的中和路有接永和的永和路，\\n中和的永和路沒接中和的中和路。\""
      ]
     },
     "execution_count": 2,
     "metadata": {},
     "output_type": "execute_result"
    }
   ],
   "source": [
    "str = \"永和有永和路，中和也有永和路，\n",
    "中和有中和路，永和也有中和路；\n",
    "中和的中和路有接永和的中和路，\n",
    "永和的永和路沒接中和的永和路；\n",
    "永和的中和路有接永和的永和路，\n",
    "中和的永和路沒接中和的中和路。\""
   ]
  },
  {
   "cell_type": "code",
   "execution_count": 9,
   "metadata": {},
   "outputs": [
    {
     "data": {
      "text/plain": [
       "95"
      ]
     },
     "execution_count": 9,
     "metadata": {},
     "output_type": "execute_result"
    }
   ],
   "source": [
    "length(str)"
   ]
  },
  {
   "cell_type": "code",
   "execution_count": 10,
   "metadata": {},
   "outputs": [
    {
     "data": {
      "text/plain": [
       "'永': Unicode U+6c38 (category Lo: Letter, other)"
      ]
     },
     "execution_count": 10,
     "metadata": {},
     "output_type": "execute_result"
    }
   ],
   "source": [
    "str[1]"
   ]
  },
  {
   "cell_type": "code",
   "execution_count": 39,
   "metadata": {},
   "outputs": [
    {
     "name": "stdout",
     "output_type": "stream",
     "text": [
      "永\n",
      "和\n",
      "有\n",
      "永\n",
      "和\n",
      "路\n",
      "，\n",
      "中\n",
      "和\n",
      "也\n",
      "有\n",
      "永\n",
      "和\n",
      "路\n",
      "，\n",
      "\n",
      "\n",
      "中\n",
      "和\n",
      "有\n",
      "中\n",
      "和\n",
      "路\n",
      "，\n",
      "永\n",
      "和\n",
      "也\n",
      "有\n",
      "中\n",
      "和\n",
      "路\n",
      "；\n",
      "\n",
      "\n",
      "中\n",
      "和\n",
      "的\n",
      "中\n",
      "和\n",
      "路\n",
      "有\n",
      "接\n",
      "永\n",
      "和\n",
      "的\n",
      "中\n",
      "和\n",
      "路\n",
      "，\n",
      "\n",
      "\n",
      "永\n",
      "和\n",
      "的\n",
      "永\n",
      "和\n",
      "路\n",
      "沒\n",
      "接\n",
      "中\n",
      "和\n",
      "的\n",
      "永\n",
      "和\n",
      "路\n",
      "；\n",
      "\n",
      "\n",
      "永\n",
      "和\n",
      "的\n",
      "中\n",
      "和\n",
      "路\n",
      "有\n",
      "接\n",
      "永\n",
      "和\n",
      "的\n",
      "永\n",
      "和\n",
      "路\n",
      "，\n",
      "\n",
      "\n",
      "中\n",
      "和\n",
      "的\n",
      "永\n",
      "和\n",
      "路\n",
      "沒\n",
      "接\n",
      "中\n",
      "和\n",
      "的\n",
      "中\n",
      "和\n",
      "路\n",
      "。\n"
     ]
    }
   ],
   "source": [
    "\n",
    "dstr = Dict()\n",
    "\n",
    "for k ∈ str\n",
    "    println(k)\n",
    "    if k!='\\\\' || k!='n'\n",
    "        if !haskey(dstr, k)\n",
    "            dstr[k]=1\n",
    "        else\n",
    "            dstr[k] += 1\n",
    "\n",
    "        end\n",
    "    end\n",
    "        \n",
    "    i+=1\n",
    "end\n",
    "\n"
   ]
  },
  {
   "cell_type": "code",
   "execution_count": 48,
   "metadata": {},
   "outputs": [
    {
     "name": "stdout",
     "output_type": "stream",
     "text": [
      "和 字有 24個\n",
      "有 字有 6個\n",
      "路 字有 12個\n",
      "。 字有 1個\n",
      "中 字有 12個\n",
      "也 字有 2個\n",
      "\n",
      " 字有 5個\n",
      "， 字有 5個\n",
      "接 字有 4個\n",
      "的 字有 8個\n",
      "沒 字有 2個\n",
      "； 字有 2個\n",
      "永 字有 12個\n",
      "95\n"
     ]
    }
   ],
   "source": [
    "count=0\n",
    "for i ∈ dstr\n",
    "    count += i.second\n",
    "    println((i.first),  \" 字有 \" , (i.second) , \"個\")\n",
    "end\n",
    "\n",
    "println(count)"
   ]
  }
 ],
 "metadata": {
  "@webio": {
   "lastCommId": null,
   "lastKernelId": null
  },
  "kernelspec": {
   "display_name": "Julia 1.2.0",
   "language": "julia",
   "name": "julia-1.2"
  },
  "language_info": {
   "file_extension": ".jl",
   "mimetype": "application/julia",
   "name": "julia",
   "version": "1.2.0"
  }
 },
 "nbformat": 4,
 "nbformat_minor": 4
}
